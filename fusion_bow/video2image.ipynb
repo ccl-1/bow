{
 "cells": [
  {
   "cell_type": "code",
   "execution_count": 1,
   "metadata": {},
   "outputs": [],
   "source": [
    "import numpy as np\n",
    "import matplotlib.pyplot as plt\n",
    "import numpy as np  \n",
    "import cv2  \n",
    "from time import strftime, gmtime\n",
    "import time\n",
    "from datetime import datetime,timedelta\n",
    "import pandas as pd\n",
    "import shutil\n",
    "import numpy as np\n",
    "from tqdm import tqdm, trange\n",
    "import os\n",
    "\n",
    "np.set_printoptions(suppress=True)"
   ]
  },
  {
   "cell_type": "code",
   "execution_count": 8,
   "metadata": {},
   "outputs": [],
   "source": [
    "video_path = \"/media/ubuntu/zoro/ubuntu/data/rail/videos_032723\"\n",
    "forward_video_path = video_path + \"/101_forward_1/video_101_forward_1_2023-03-27_12_21_19.477906_2023-03-27_12_36_03.677294.mp4\"\n",
    "side_video_path    = video_path +        \"/101_side_1/video_101_side_1_2023-03-27_12_21_19.477906_2023-03-27_12_36_03.677294.mp4\"\n",
    "image_path = \"/media/ubuntu/zoro/ubuntu/data/rail/data\"\n",
    "image_forward = image_path + \"/forward/\"\n",
    "image_side    = image_path + \"/side/\""
   ]
  },
  {
   "cell_type": "code",
   "execution_count": 9,
   "metadata": {},
   "outputs": [
    {
     "name": "stdout",
     "output_type": "stream",
     "text": [
      "帧数：14.985014985014985\n",
      "总帧数：11685.0\n",
      "视频总时长：779.78秒\n",
      "帧数：15.083333333333334\n",
      "总帧数：12592.0\n",
      "视频总时长：834.83秒\n"
     ]
    },
    {
     "data": {
      "text/plain": [
       "'00:13:54'"
      ]
     },
     "execution_count": 9,
     "metadata": {},
     "output_type": "execute_result"
    }
   ],
   "source": [
    "videoCaptureS = cv2.VideoCapture(side_video_path)\n",
    "size = (int(videoCaptureS.get(cv2.CAP_PROP_FRAME_WIDTH)), int(videoCaptureS.get(cv2.CAP_PROP_FRAME_HEIGHT)))\n",
    "fps = videoCaptureS.get(cv2.CAP_PROP_FPS) \n",
    "frames = videoCaptureS.get(cv2.CAP_PROP_FRAME_COUNT) \n",
    "print(\"帧数：\"+str(fps))\n",
    "print(\"总帧数：\"+str(frames))\n",
    "print(\"视频总时长：\"+\"{0:.2f}\".format(frames/fps)+\"秒\")\n",
    "strftime(\"%H:%M:%S\", gmtime(frames/fps))\n",
    "\n",
    "print('--------------------------------') \n",
    "videoCaptureF = cv2.VideoCapture(forward_video_path)\n",
    "size = (int(videoCaptureF.get(cv2.CAP_PROP_FRAME_WIDTH)), int(videoCaptureF.get(cv2.CAP_PROP_FRAME_HEIGHT)))\n",
    "fps = videoCaptureF.get(cv2.CAP_PROP_FPS) \n",
    "frames = videoCaptureF.get(cv2.CAP_PROP_FRAME_COUNT) \n",
    "print(\"帧数：\"+str(fps))\n",
    "print(\"总帧数：\"+str(frames))\n",
    "print(\"视频总时长：\"+\"{0:.2f}\".format(frames/fps)+\"秒\")\n",
    "strftime(\"%H:%M:%S\", gmtime(frames/fps))"
   ]
  },
  {
   "cell_type": "code",
   "execution_count": 11,
   "metadata": {},
   "outputs": [],
   "source": [
    "class Kitti():\n",
    "    def __init__(self, video_parent_dir, frame_interval, img_width, img_height):\n",
    "        '''\n",
    "        :param video_father_dir:  video father dir file dir\n",
    "        :param frame_interval:   every frame_interval save a key frame\n",
    "        :param img_width:   img sequence width\n",
    "        :param img_height:  img sequence height\n",
    "        '''\n",
    "\n",
    "        # self.video_dirs = [video_parent_dir+dir for dir in os.listdir(video_parent_dir)]\n",
    "        self.video_dirs = [video_parent_dir]\n",
    "\n",
    "        self.frame_interval = frame_interval\n",
    "        self.img_width = img_width\n",
    "        self.img_height = img_height\n",
    "        self.dir_cnt = 0 # 00  文件夹\n",
    "\n",
    "    def get_format_name(self, idx, lenght):\n",
    "        '''\n",
    "        :param idx: given img index, such as 1, 2, 3\n",
    "        :lenght: format name length\n",
    "        :return: return format img name like 000001, 000002, ...\n",
    "        '''\n",
    "        cnt = lenght - 1\n",
    "        prefix = ''\n",
    "        nmb = idx\n",
    "        while idx // 10 != 0:\n",
    "            cnt -= 1\n",
    "            idx = idx // 10\n",
    "        for i in range(cnt):\n",
    "            prefix += '0'\n",
    "        return prefix + str(nmb)\n",
    "    def run(self,video_dir, save_dir):\n",
    "        videoCapture = cv2.VideoCapture(video_dir)\n",
    "        # get video fps\n",
    "        fps = videoCapture.get(cv2.CAP_PROP_FPS)\n",
    "        # get vide width and height\n",
    "        size = (int(videoCapture.get(cv2.CAP_PROP_FRAME_WIDTH)), int(videoCapture.get(cv2.CAP_PROP_FRAME_HEIGHT)))\n",
    "\n",
    "        width_offset = int((size[0] - self.img_width) / 2)\n",
    "        height_offset = int((size[1] - self.img_height) / 2)\n",
    "        print('=======================')\n",
    "        print('init_size: ',size)\n",
    "        print('dest_size: (',self.img_width,',',self.img_height,')')\n",
    "        img_sequence_parentdir = save_dir + self.get_format_name(self.dir_cnt, 2)\n",
    "        if not os.path.exists(img_sequence_parentdir):\n",
    "            os.makedirs(img_sequence_parentdir)\n",
    "            if not os.path.exists(img_sequence_parentdir + '/image_0/'):\n",
    "                os.makedirs(img_sequence_parentdir + '/image_0/')\n",
    "        # 读帧\n",
    "        success, frame = videoCapture.read()\n",
    "        total_frame_idx = 0  # video frame index\n",
    "        count = 0  # keyframe number\n",
    "        tmp_cnt = 0  # record new cycle frame number\n",
    "        timestep = 0  # time step\n",
    "        timestep_total = [0]  # save every time step\n",
    "        print(\"Fps: \", fps)\n",
    "        print('=======================')\n",
    "        while success:\n",
    "            if tmp_cnt == 0 or tmp_cnt == self.frame_interval:\n",
    "                format_img_name = img_sequence_parentdir + '/image_0/' + self.get_format_name(count, 6) + '.png'\n",
    "                # print(format_img_name)\n",
    "                cv2.imwrite(format_img_name,\n",
    "                            frame[height_offset:height_offset + self.img_height,\n",
    "                            width_offset:width_offset + self.img_width])\n",
    "                count += 1\n",
    "                tmp_cnt = 0\n",
    "                timestep += self.frame_interval / fps # 时间戳, time = 1/f  (s) 单位是s\n",
    "                timestep_total.append(timestep) \n",
    "\n",
    "            success, frame = videoCapture.read()  # 获取下一帧\n",
    "            total_frame_idx = total_frame_idx + 1\n",
    "            tmp_cnt += 1\n",
    "        self.dir_cnt += 1\n",
    "        np.savetxt(img_sequence_parentdir + '/times.txt', timestep_total)\n",
    "\n",
    "    def main(self, save_dir):\n",
    "        for video_dir in self.video_dirs:\n",
    "            self.run(video_dir, save_dir)"
   ]
  },
  {
   "cell_type": "code",
   "execution_count": 30,
   "metadata": {},
   "outputs": [
    {
     "name": "stdout",
     "output_type": "stream",
     "text": [
      "=======================\n",
      "init_size:  (1920, 1080)\n",
      "dest_size: ( 960 , 540 )\n",
      "Fps:  15.083333333333334\n",
      "=======================\n"
     ]
    }
   ],
   "source": [
    "K = Kitti(forward_video_path,1,960,540) # side_video_path\n",
    "K.main(image_forward) # image_side"
   ]
  },
  {
   "cell_type": "code",
   "execution_count": 12,
   "metadata": {},
   "outputs": [
    {
     "name": "stdout",
     "output_type": "stream",
     "text": [
      "=======================\n",
      "init_size:  (720, 480)\n",
      "dest_size: ( 720 , 480 )\n",
      "Fps:  14.985014985014985\n",
      "=======================\n"
     ]
    }
   ],
   "source": [
    "K2 = Kitti(side_video_path,1,720,480) \n",
    "K2.main(image_side) \n"
   ]
  },
  {
   "cell_type": "code",
   "execution_count": null,
   "metadata": {},
   "outputs": [],
   "source": [
    "# 读取遍历 2个数据集,  选择前 1000张,并set interval=5,\n",
    "# 融合训练bow, 训练 2个 bow: VocF, VocS\n",
    "# 查询, \n",
    "#   if  score(VocF) >0.3 or score(VocS) > 0.3, 判断 为找到目标\n",
    "#   else  no matching image \n",
    "\n",
    "# After completing the above work, establish a station dataset for classification and evaluation and write a description document."
   ]
  },
  {
   "cell_type": "code",
   "execution_count": null,
   "metadata": {},
   "outputs": [],
   "source": []
  }
 ],
 "metadata": {
  "kernelspec": {
   "display_name": "base",
   "language": "python",
   "name": "python3"
  },
  "language_info": {
   "codemirror_mode": {
    "name": "ipython",
    "version": 3
   },
   "file_extension": ".py",
   "mimetype": "text/x-python",
   "name": "python",
   "nbconvert_exporter": "python",
   "pygments_lexer": "ipython3",
   "version": "3.9.12"
  },
  "orig_nbformat": 4
 },
 "nbformat": 4,
 "nbformat_minor": 2
}
